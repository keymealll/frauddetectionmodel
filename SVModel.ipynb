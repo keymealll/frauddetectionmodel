{
 "cells": [
  {
   "cell_type": "code",
   "execution_count": 9,
   "metadata": {},
   "outputs": [],
   "source": [
    "import pandas as pd\n",
    "from sklearn.model_selection import train_test_split\n",
    "from sklearn.preprocessing import StandardScaler\n",
    "from sklearn.svm import SVC\n",
    "from sklearn.calibration import CalibratedClassifierCV\n",
    "from sklearn.metrics import accuracy_score"
   ]
  },
  {
   "cell_type": "code",
   "execution_count": 2,
   "metadata": {},
   "outputs": [],
   "source": [
    "file_path = './datasets/card_transdata.csv'\n",
    "data = pd.read_csv(file_path).sample(1000, random_state=42)"
   ]
  },
  {
   "cell_type": "code",
   "execution_count": 3,
   "metadata": {},
   "outputs": [
    {
     "data": {
      "text/html": [
       "<div>\n",
       "<style scoped>\n",
       "    .dataframe tbody tr th:only-of-type {\n",
       "        vertical-align: middle;\n",
       "    }\n",
       "\n",
       "    .dataframe tbody tr th {\n",
       "        vertical-align: top;\n",
       "    }\n",
       "\n",
       "    .dataframe thead th {\n",
       "        text-align: right;\n",
       "    }\n",
       "</style>\n",
       "<table border=\"1\" class=\"dataframe\">\n",
       "  <thead>\n",
       "    <tr style=\"text-align: right;\">\n",
       "      <th></th>\n",
       "      <th>distance_from_home</th>\n",
       "      <th>distance_from_last_transaction</th>\n",
       "      <th>ratio_to_median_purchase_price</th>\n",
       "      <th>repeat_retailer</th>\n",
       "      <th>used_chip</th>\n",
       "      <th>used_pin_number</th>\n",
       "      <th>online_order</th>\n",
       "      <th>fraud</th>\n",
       "    </tr>\n",
       "  </thead>\n",
       "  <tbody>\n",
       "    <tr>\n",
       "      <th>987231</th>\n",
       "      <td>0.929509</td>\n",
       "      <td>1.296477</td>\n",
       "      <td>0.361110</td>\n",
       "      <td>0.0</td>\n",
       "      <td>0.0</td>\n",
       "      <td>0.0</td>\n",
       "      <td>1.0</td>\n",
       "      <td>0.0</td>\n",
       "    </tr>\n",
       "    <tr>\n",
       "      <th>79954</th>\n",
       "      <td>0.611179</td>\n",
       "      <td>0.208295</td>\n",
       "      <td>3.118884</td>\n",
       "      <td>0.0</td>\n",
       "      <td>0.0</td>\n",
       "      <td>0.0</td>\n",
       "      <td>1.0</td>\n",
       "      <td>0.0</td>\n",
       "    </tr>\n",
       "    <tr>\n",
       "      <th>567130</th>\n",
       "      <td>3.956062</td>\n",
       "      <td>0.529194</td>\n",
       "      <td>1.579942</td>\n",
       "      <td>1.0</td>\n",
       "      <td>0.0</td>\n",
       "      <td>0.0</td>\n",
       "      <td>0.0</td>\n",
       "      <td>0.0</td>\n",
       "    </tr>\n",
       "    <tr>\n",
       "      <th>500891</th>\n",
       "      <td>21.798902</td>\n",
       "      <td>0.019399</td>\n",
       "      <td>11.416909</td>\n",
       "      <td>1.0</td>\n",
       "      <td>0.0</td>\n",
       "      <td>0.0</td>\n",
       "      <td>0.0</td>\n",
       "      <td>0.0</td>\n",
       "    </tr>\n",
       "    <tr>\n",
       "      <th>55399</th>\n",
       "      <td>3.310635</td>\n",
       "      <td>1.707802</td>\n",
       "      <td>2.028915</td>\n",
       "      <td>1.0</td>\n",
       "      <td>0.0</td>\n",
       "      <td>0.0</td>\n",
       "      <td>0.0</td>\n",
       "      <td>0.0</td>\n",
       "    </tr>\n",
       "  </tbody>\n",
       "</table>\n",
       "</div>"
      ],
      "text/plain": [
       "        distance_from_home  distance_from_last_transaction  \\\n",
       "987231            0.929509                        1.296477   \n",
       "79954             0.611179                        0.208295   \n",
       "567130            3.956062                        0.529194   \n",
       "500891           21.798902                        0.019399   \n",
       "55399             3.310635                        1.707802   \n",
       "\n",
       "        ratio_to_median_purchase_price  repeat_retailer  used_chip  \\\n",
       "987231                        0.361110              0.0        0.0   \n",
       "79954                         3.118884              0.0        0.0   \n",
       "567130                        1.579942              1.0        0.0   \n",
       "500891                       11.416909              1.0        0.0   \n",
       "55399                         2.028915              1.0        0.0   \n",
       "\n",
       "        used_pin_number  online_order  fraud  \n",
       "987231              0.0           1.0    0.0  \n",
       "79954               0.0           1.0    0.0  \n",
       "567130              0.0           0.0    0.0  \n",
       "500891              0.0           0.0    0.0  \n",
       "55399               0.0           0.0    0.0  "
      ]
     },
     "execution_count": 3,
     "metadata": {},
     "output_type": "execute_result"
    }
   ],
   "source": [
    "data.head()"
   ]
  },
  {
   "cell_type": "code",
   "execution_count": 4,
   "metadata": {},
   "outputs": [],
   "source": [
    "X = data.drop(\"fraud\",axis=1)\n",
    "y = data[\"fraud\"]"
   ]
  },
  {
   "cell_type": "code",
   "execution_count": 10,
   "metadata": {},
   "outputs": [
    {
     "name": "stdout",
     "output_type": "stream",
     "text": [
      "Model Accuracy: 0.941\n"
     ]
    }
   ],
   "source": [
    "scaler = StandardScaler()\n",
    "X_scaled = scaler.fit_transform(X)\n",
    "svm_classifier = SVC(kernel = \"linear\", probability=True, random_state=42)\n",
    "calibrated_svm = CalibratedClassifierCV(svm_classifier)\n",
    "calibrated_svm.fit(X_scaled,y)\n",
    "\n",
    "y_pred_rf = calibrated_svm.predict(X_scaled)\n",
    "accuracy_rf = accuracy_score(y, y_pred_rf)\n",
    "print(\"Model Accuracy:\", accuracy_rf)   "
   ]
  },
  {
   "cell_type": "code",
   "execution_count": null,
   "metadata": {},
   "outputs": [],
   "source": [
    "distance_from_home = float(input(\"Enter Distance From Home: \"))\n",
    "distance_from_last_transaction = float(input(\"Enter Distance From Last Transaction: \"))\n",
    "ratio_to_median_purchase_price = float(input(\"Enter Ratio to Median Purchase Price: \"))\n",
    "repeat_retailer = int(input(\"Enter Repeat Retailer (0 or 1): \"))\n",
    "used_chip = int(input(\"Enter Used Chip (0 or 1): \"))\n",
    "used_pin_number = int(input(\"Enter Used Pin Number (0 or 1): \"))\n",
    "online_order = int(input(\"Enter Online Order (0 or 1): \"))\n",
    "\n",
    "new_transaction_features = pd.DataFrame({\n",
    "    'distance_from_home': [distance_from_home],\n",
    "    'distance_from_last_transaction': [distance_from_last_transaction],\n",
    "    'ratio_to_median_purchase_price': [ratio_to_median_purchase_price],\n",
    "    'repeat_retailer': [repeat_retailer],\n",
    "    'used_chip': [used_chip],\n",
    "    'used_pin_number': [used_pin_number],\n",
    "    'online_order': [online_order]\n",
    "})\n",
    "\n",
    "scaled_transaction = scaler.transform(new_transaction_features)\n",
    "prediction = calibrated_svm.predict(scaled_transaction)\n",
    "probability_of_fraud = calibrated_svm.predict_proba(scaled_transaction)[:,1][0]\n",
    "print(\"\\nPrediction for New Transaction:\")\n",
    "print(\"Fraud\" if prediction[0] == 1 else \"Legitimate\")\n",
    "print(f\"Probability of Fraud: {probability_of_fraud * 100:.2f}%\")"
   ]
  }
 ],
 "metadata": {
  "kernelspec": {
   "display_name": "Python 3",
   "language": "python",
   "name": "python3"
  },
  "language_info": {
   "codemirror_mode": {
    "name": "ipython",
    "version": 3
   },
   "file_extension": ".py",
   "mimetype": "text/x-python",
   "name": "python",
   "nbconvert_exporter": "python",
   "pygments_lexer": "ipython3",
   "version": "3.12.2"
  }
 },
 "nbformat": 4,
 "nbformat_minor": 2
}
